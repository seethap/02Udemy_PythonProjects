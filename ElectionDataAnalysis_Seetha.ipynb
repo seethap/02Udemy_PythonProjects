{
 "cells": [
  {
   "cell_type": "markdown",
   "metadata": {},
   "source": [
    "# ELECTION DATA PROJECT\n",
    "## Analyzing the recent 2012 US Election Data\n",
    "\n",
    "1) Utilizing two datasets (a) Results of political polls. (b) Aggregated poll data\n",
    "\n",
    "Questions from FIRST dataset\n",
    "\n",
    "1) Candidate being polled and their part affiliation?\n",
    "\n",
    "2) Poll Results favor Romney or Obama?\n",
    "\n",
    "3) Effect of undecided voters on polls?\n",
    "\n",
    "4) Accounting for undecided voters?\n",
    "\n",
    "5) Did voter sentiment change over time?\n",
    "\n",
    "6) After debates, do polls change?"
   ]
  },
  {
   "cell_type": "code",
   "execution_count": 2,
   "metadata": {
    "collapsed": false
   },
   "outputs": [],
   "source": [
    "# Standard import libraries\n",
    "\n",
    "import pandas as pd\n",
    "from pandas import Series,DataFrame\n",
    "import numpy as np\n",
    "\n",
    "#Standard visualization libraries\n",
    "import matplotlib.pyplot as plt\n",
    "import seaborn as sns\n",
    "sns.set_style('whitegrid')\n",
    "%matplotlib inline\n",
    "\n",
    "#taking care of int division\n",
    "from __future__ import division"
   ]
  },
  {
   "cell_type": "markdown",
   "metadata": {},
   "source": [
    "Source for polls: HuffPost Pollster http://elections.huffingtonpost.com/pollster\n",
    "\n",
    "Using module \"requests\" to import data from web. \n",
    "\n",
    "Refresher: http://docs.python-requests.org/en/latest/\n",
    "\n",
    "Using StringIO to work with CSV data from Huffpost\n",
    "\n",
    "Refresher: https://pymotw.com/2/StringIO/\n"
   ]
  },
  {
   "cell_type": "code",
   "execution_count": 3,
   "metadata": {
    "collapsed": false
   },
   "outputs": [],
   "source": [
    "#Getting data from the web(HTTP capabilities)\n",
    "import requests\n",
    "\n",
    "#Getting data from csv file using StringIO.\n",
    "#DataFrame requires a .read() method\n",
    "from StringIO import StringIO"
   ]
  },
  {
   "cell_type": "code",
   "execution_count": 4,
   "metadata": {
    "collapsed": false
   },
   "outputs": [],
   "source": [
    "#URL for Huffpost pollster\n",
    "url = \"http://elections.huffingtonpost.com/pollster/2012-general-election-romney-vs-obama.csv\"\n",
    "\n",
    "#Using requests to get info in text format\n",
    "source = requests.get(url).text\n",
    "\n",
    "#Using StringIO to avoid an IO error with pandas\n",
    "poll_data = StringIO(source)\n"
   ]
  },
  {
   "cell_type": "code",
   "execution_count": 5,
   "metadata": {
    "collapsed": false
   },
   "outputs": [
    {
     "name": "stdout",
     "output_type": "stream",
     "text": [
      "<class 'pandas.core.frame.DataFrame'>\n",
      "Int64Index: 589 entries, 0 to 588\n",
      "Data columns (total 14 columns):\n",
      "Pollster                  589 non-null object\n",
      "Start Date                589 non-null object\n",
      "End Date                  589 non-null object\n",
      "Entry Date/Time (ET)      589 non-null object\n",
      "Number of Observations    567 non-null float64\n",
      "Population                589 non-null object\n",
      "Mode                      589 non-null object\n",
      "Obama                     589 non-null int64\n",
      "Romney                    589 non-null int64\n",
      "Undecided                 422 non-null float64\n",
      "Pollster URL              589 non-null object\n",
      "Source URL                587 non-null object\n",
      "Partisan                  589 non-null object\n",
      "Affiliation               589 non-null object\n",
      "dtypes: float64(2), int64(2), object(10)\n",
      "memory usage: 69.0+ KB\n"
     ]
    }
   ],
   "source": [
    "#Initializing poll dataframe in pandas\n",
    "poll_df = pd.read_csv(poll_data)\n",
    "\n",
    "poll_df.info()"
   ]
  },
  {
   "cell_type": "code",
   "execution_count": 6,
   "metadata": {
    "collapsed": false
   },
   "outputs": [
    {
     "data": {
      "text/html": [
       "<div>\n",
       "<table border=\"1\" class=\"dataframe\">\n",
       "  <thead>\n",
       "    <tr style=\"text-align: right;\">\n",
       "      <th></th>\n",
       "      <th>Pollster</th>\n",
       "      <th>Start Date</th>\n",
       "      <th>End Date</th>\n",
       "      <th>Entry Date/Time (ET)</th>\n",
       "      <th>Number of Observations</th>\n",
       "      <th>Population</th>\n",
       "      <th>Mode</th>\n",
       "      <th>Obama</th>\n",
       "      <th>Romney</th>\n",
       "      <th>Undecided</th>\n",
       "      <th>Pollster URL</th>\n",
       "      <th>Source URL</th>\n",
       "      <th>Partisan</th>\n",
       "      <th>Affiliation</th>\n",
       "    </tr>\n",
       "  </thead>\n",
       "  <tbody>\n",
       "    <tr>\n",
       "      <th>0</th>\n",
       "      <td>Politico/GWU/Battleground</td>\n",
       "      <td>2012-11-04</td>\n",
       "      <td>2012-11-05</td>\n",
       "      <td>2012-11-06 2000-01-01 08:40:26 UTC</td>\n",
       "      <td>1000</td>\n",
       "      <td>Likely Voters</td>\n",
       "      <td>Live Phone</td>\n",
       "      <td>47</td>\n",
       "      <td>47</td>\n",
       "      <td>6</td>\n",
       "      <td>http://elections.huffingtonpost.com/pollster/p...</td>\n",
       "      <td>http://www.politico.com/news/stories/1112/8338...</td>\n",
       "      <td>Nonpartisan</td>\n",
       "      <td>None</td>\n",
       "    </tr>\n",
       "    <tr>\n",
       "      <th>1</th>\n",
       "      <td>UPI/CVOTER</td>\n",
       "      <td>2012-11-03</td>\n",
       "      <td>2012-11-05</td>\n",
       "      <td>2012-11-05 2000-01-01 18:30:15 UTC</td>\n",
       "      <td>3000</td>\n",
       "      <td>Likely Voters</td>\n",
       "      <td>Live Phone</td>\n",
       "      <td>49</td>\n",
       "      <td>48</td>\n",
       "      <td>NaN</td>\n",
       "      <td>http://elections.huffingtonpost.com/pollster/p...</td>\n",
       "      <td>NaN</td>\n",
       "      <td>Nonpartisan</td>\n",
       "      <td>None</td>\n",
       "    </tr>\n",
       "    <tr>\n",
       "      <th>2</th>\n",
       "      <td>Gravis Marketing</td>\n",
       "      <td>2012-11-03</td>\n",
       "      <td>2012-11-05</td>\n",
       "      <td>2012-11-06 2000-01-01 09:22:02 UTC</td>\n",
       "      <td>872</td>\n",
       "      <td>Likely Voters</td>\n",
       "      <td>Automated Phone</td>\n",
       "      <td>48</td>\n",
       "      <td>48</td>\n",
       "      <td>4</td>\n",
       "      <td>http://elections.huffingtonpost.com/pollster/p...</td>\n",
       "      <td>http://www.gravispolls.com/2012/11/gravis-mark...</td>\n",
       "      <td>Nonpartisan</td>\n",
       "      <td>None</td>\n",
       "    </tr>\n",
       "    <tr>\n",
       "      <th>3</th>\n",
       "      <td>JZ Analytics/Newsmax</td>\n",
       "      <td>2012-11-03</td>\n",
       "      <td>2012-11-05</td>\n",
       "      <td>2012-11-06 2000-01-01 07:38:41 UTC</td>\n",
       "      <td>1041</td>\n",
       "      <td>Likely Voters</td>\n",
       "      <td>Internet</td>\n",
       "      <td>47</td>\n",
       "      <td>47</td>\n",
       "      <td>6</td>\n",
       "      <td>http://elections.huffingtonpost.com/pollster/p...</td>\n",
       "      <td>http://www.jzanalytics.com/</td>\n",
       "      <td>Sponsor</td>\n",
       "      <td>Rep</td>\n",
       "    </tr>\n",
       "    <tr>\n",
       "      <th>4</th>\n",
       "      <td>Rasmussen</td>\n",
       "      <td>2012-11-03</td>\n",
       "      <td>2012-11-05</td>\n",
       "      <td>2012-11-06 2000-01-01 08:47:50 UTC</td>\n",
       "      <td>1500</td>\n",
       "      <td>Likely Voters</td>\n",
       "      <td>Automated Phone</td>\n",
       "      <td>48</td>\n",
       "      <td>49</td>\n",
       "      <td>NaN</td>\n",
       "      <td>http://elections.huffingtonpost.com/pollster/p...</td>\n",
       "      <td>http://www.rasmussenreports.com/public_content...</td>\n",
       "      <td>Nonpartisan</td>\n",
       "      <td>None</td>\n",
       "    </tr>\n",
       "  </tbody>\n",
       "</table>\n",
       "</div>"
      ],
      "text/plain": [
       "                    Pollster  Start Date    End Date  \\\n",
       "0  Politico/GWU/Battleground  2012-11-04  2012-11-05   \n",
       "1                 UPI/CVOTER  2012-11-03  2012-11-05   \n",
       "2           Gravis Marketing  2012-11-03  2012-11-05   \n",
       "3       JZ Analytics/Newsmax  2012-11-03  2012-11-05   \n",
       "4                  Rasmussen  2012-11-03  2012-11-05   \n",
       "\n",
       "                 Entry Date/Time (ET)  Number of Observations     Population  \\\n",
       "0  2012-11-06 2000-01-01 08:40:26 UTC                    1000  Likely Voters   \n",
       "1  2012-11-05 2000-01-01 18:30:15 UTC                    3000  Likely Voters   \n",
       "2  2012-11-06 2000-01-01 09:22:02 UTC                     872  Likely Voters   \n",
       "3  2012-11-06 2000-01-01 07:38:41 UTC                    1041  Likely Voters   \n",
       "4  2012-11-06 2000-01-01 08:47:50 UTC                    1500  Likely Voters   \n",
       "\n",
       "              Mode  Obama  Romney  Undecided  \\\n",
       "0       Live Phone     47      47          6   \n",
       "1       Live Phone     49      48        NaN   \n",
       "2  Automated Phone     48      48          4   \n",
       "3         Internet     47      47          6   \n",
       "4  Automated Phone     48      49        NaN   \n",
       "\n",
       "                                        Pollster URL  \\\n",
       "0  http://elections.huffingtonpost.com/pollster/p...   \n",
       "1  http://elections.huffingtonpost.com/pollster/p...   \n",
       "2  http://elections.huffingtonpost.com/pollster/p...   \n",
       "3  http://elections.huffingtonpost.com/pollster/p...   \n",
       "4  http://elections.huffingtonpost.com/pollster/p...   \n",
       "\n",
       "                                          Source URL     Partisan Affiliation  \n",
       "0  http://www.politico.com/news/stories/1112/8338...  Nonpartisan        None  \n",
       "1                                                NaN  Nonpartisan        None  \n",
       "2  http://www.gravispolls.com/2012/11/gravis-mark...  Nonpartisan        None  \n",
       "3                        http://www.jzanalytics.com/      Sponsor         Rep  \n",
       "4  http://www.rasmussenreports.com/public_content...  Nonpartisan        None  "
      ]
     },
     "execution_count": 6,
     "metadata": {},
     "output_type": "execute_result"
    }
   ],
   "source": [
    "poll_df.head()"
   ]
  },
  {
   "cell_type": "code",
   "execution_count": 7,
   "metadata": {
    "collapsed": false
   },
   "outputs": [
    {
     "data": {
      "text/plain": [
       "<seaborn.axisgrid.FacetGrid at 0x1f23df98>"
      ]
     },
     "execution_count": 7,
     "metadata": {},
     "output_type": "execute_result"
    },
    {
     "data": {
      "image/png": "[encoded data removed]",
      "text/plain": [
       "<matplotlib.figure.Figure at 0x1f23dcc0>"
      ]
     },
     "metadata": {},
     "output_type": "display_data"
    }
   ],
   "source": [
    "# Checking Affiliation of the polls conducted\n",
    "sns.factorplot('Affiliation',data=poll_df,kind='count')\n",
    "#CONCLUSION: Most of them are unaffiliated, which is a good sign.\n",
    "#CONCLUSION: Democratic affiliated polls > Republican affiliated polls"
   ]
  },
  {
   "cell_type": "code",
   "execution_count": 8,
   "metadata": {
    "collapsed": false
   },
   "outputs": [
    {
     "data": {
      "text/plain": [
       "<seaborn.axisgrid.FacetGrid at 0x1f23deb8>"
      ]
     },
     "execution_count": 8,
     "metadata": {},
     "output_type": "execute_result"
    },
    {
     "data": {
      "image/png": "[encoded data removed]",
      "text/plain": [
       "<matplotlib.figure.Figure at 0x1f23dbe0>"
      ]
     },
     "metadata": {},
     "output_type": "display_data"
    }
   ],
   "source": [
    "# Checking Affiliation of the polls conducted\n",
    "#Population 4 categories\n",
    "sns.factorplot('Affiliation',data=poll_df,kind='count', hue = 'Population')\n",
    "#CONCLUSION: As likely voters and registered voters are high,\n",
    "#the poll data should be a fair representation of the populations polled."
   ]
  },
  {
   "cell_type": "code",
   "execution_count": 9,
   "metadata": {
    "collapsed": false
   },
   "outputs": [
    {
     "data": {
      "text/plain": [
       "<matplotlib.axes._subplots.AxesSubplot at 0x1f765ef0>"
      ]
     },
     "execution_count": 9,
     "metadata": {},
     "output_type": "execute_result"
    },
    {
     "name": "stderr",
     "output_type": "stream",
     "text": [
      "C:\\Users\\seeth_000\\Anaconda\\lib\\site-packages\\matplotlib\\collections.py:590: FutureWarning: elementwise comparison failed; returning scalar instead, but in the future will perform elementwise comparison\n",
      "  if self._edgecolors == str('face'):\n"
     ]
    },
    {
     "data": {
      "image/png": "[encoded data removed]",
      "text/plain": [
       "<matplotlib.figure.Figure at 0x1f23def0>"
      ]
     },
     "metadata": {},
     "output_type": "display_data"
    }
   ],
   "source": [
    "#Average for Obama, Romney and Undecided voters\n",
    "\n",
    "#Calculating mean\n",
    "avg = DataFrame(poll_df.mean()) #calculates mean on columns that\n",
    "                                #can have a mean calculated for.\n",
    "avg.drop('Number of Observations', axis = 0, inplace = True)\n",
    "\n",
    "#Calculating SD\n",
    "std = DataFrame(poll_df.std())\n",
    "std.drop('Number of Observations',axis = 0,inplace = True)\n",
    "\n",
    "# Using pandas \"plot\" with kind=\"bar\" and yerr='std'\n",
    "avg.plot(yerr=std,kind='bar',legend=False)\n",
    "\n",
    "#CONCLUSION: Results are pretty close, and as the undecided voters are small,\n",
    "#this race seems to be a tight one"
   ]
  },
  {
   "cell_type": "code",
   "execution_count": 10,
   "metadata": {
    "collapsed": false
   },
   "outputs": [
    {
     "data": {
      "text/html": [
       "<div>\n",
       "<table border=\"1\" class=\"dataframe\">\n",
       "  <thead>\n",
       "    <tr style=\"text-align: right;\">\n",
       "      <th></th>\n",
       "      <th>Average</th>\n",
       "      <th>STD</th>\n",
       "    </tr>\n",
       "  </thead>\n",
       "  <tbody>\n",
       "    <tr>\n",
       "      <th>Obama</th>\n",
       "      <td>46.772496</td>\n",
       "      <td>2.448627</td>\n",
       "    </tr>\n",
       "    <tr>\n",
       "      <th>Romney</th>\n",
       "      <td>44.573854</td>\n",
       "      <td>2.927711</td>\n",
       "    </tr>\n",
       "    <tr>\n",
       "      <th>Undecided</th>\n",
       "      <td>6.549763</td>\n",
       "      <td>3.702235</td>\n",
       "    </tr>\n",
       "  </tbody>\n",
       "</table>\n",
       "</div>"
      ],
      "text/plain": [
       "             Average       STD\n",
       "Obama      46.772496  2.448627\n",
       "Romney     44.573854  2.927711\n",
       "Undecided   6.549763  3.702235"
      ]
     },
     "execution_count": 10,
     "metadata": {},
     "output_type": "execute_result"
    }
   ],
   "source": [
    "# put avg and std together\n",
    "poll_avg = pd.concat([avg,std],axis=1)\n",
    "poll_avg.columns = ['Average','STD']\n",
    "poll_avg\n"
   ]
  },
  {
   "cell_type": "code",
   "execution_count": 11,
   "metadata": {
    "collapsed": true
   },
   "outputs": [],
   "source": [
    "#To know where the undecided voters might have voted\n",
    "# taking a look at voter sentiment and poll end dates"
   ]
  },
  {
   "cell_type": "code",
   "execution_count": 12,
   "metadata": {
    "collapsed": false
   },
   "outputs": [
    {
     "data": {
      "text/plain": [
       "<matplotlib.axes._subplots.AxesSubplot at 0x1f90ed68>"
      ]
     },
     "execution_count": 12,
     "metadata": {},
     "output_type": "execute_result"
    },
    {
     "data": {
      "image/png": "[encoded data removed]",
      "text/plain": [
       "<matplotlib.figure.Figure at 0x1f84d160>"
      ]
     },
     "metadata": {},
     "output_type": "display_data"
    }
   ],
   "source": [
    "#Plot of sentiment in the polls over time\n",
    "poll_df.plot(x='End Date',y=['Obama','Romney','Undecided'],marker='<',\n",
    "             linestyle='',figsize=(10,4))\n",
    "#Conclusion: towards the end of the poll information, obama and romney have \n",
    "#equal stake at winning the election"
   ]
  },
  {
   "cell_type": "code",
   "execution_count": 13,
   "metadata": {
    "collapsed": false
   },
   "outputs": [],
   "source": [
    "#importing datetime\n",
    "from datetime import datetime\n",
    "#Adding a new column which is difference in poll favor in %\n",
    "poll_df['Difference']= (poll_df.Obama - poll_df.Romney)/100"
   ]
  },
  {
   "cell_type": "code",
   "execution_count": 14,
   "metadata": {
    "collapsed": false
   },
   "outputs": [
    {
     "data": {
      "text/plain": [
       "<matplotlib.axes._subplots.AxesSubplot at 0x1fd247b8>"
      ]
     },
     "execution_count": 14,
     "metadata": {},
     "output_type": "execute_result"
    },
    {
     "data": {
      "image/png": "[encoded data removed]",
      "text/plain": [
       "<matplotlib.figure.Figure at 0x1f89abe0>"
      ]
     },
     "metadata": {},
     "output_type": "display_data"
    }
   ],
   "source": [
    "#as_index=Flase to keep the 0,1,2,... index. \n",
    "#Then we'll take the mean of the polls on that day.\n",
    "poll_df=poll_df.groupby(['Start Date'],as_index=False).mean()\n",
    "\n",
    "#plotting difference means of polls groupedby same start date\n",
    "poll_df.plot(x='Start Date',y='Difference',marker='D',linestyle='-',figsize=(10,4))\n",
    "\n",
    "#CONCLUSION: romney on two specific dates, he had major advantage in poles\n",
    "#towards the end the race was getting a close"
   ]
  },
  {
   "cell_type": "code",
   "execution_count": 15,
   "metadata": {
    "collapsed": false
   },
   "outputs": [
    {
     "name": "stdout",
     "output_type": "stream",
     "text": [
      "329\n",
      "356\n"
     ]
    }
   ],
   "source": [
    "#Checking to see if debates effected the polls\n",
    "#debate dates, oct3rd, oct 11 and oct22nd of 2012. \n",
    "#Plotting lines as markers and zoom into month of october\n",
    "#Due to the string-formatted date, a loop is used to cycle \n",
    "#the column and look for 2012-10\n",
    "\n",
    "row_in = 0\n",
    "xlimit =[]\n",
    "\n",
    "for data in poll_df['Start Date']:\n",
    "    if data[0:7]=='2012-10':\n",
    "        xlimit.append(row_in)\n",
    "    row_in += 1\n",
    "    \n",
    "#printing the row limits for month of october\n",
    "print min(xlimit)\n",
    "print max(xlimit)"
   ]
  },
  {
   "cell_type": "code",
   "execution_count": 19,
   "metadata": {
    "collapsed": false
   },
   "outputs": [
    {
     "data": {
      "text/plain": [
       "<matplotlib.lines.Line2D at 0x208f1630>"
      ]
     },
     "execution_count": 19,
     "metadata": {},
     "output_type": "execute_result"
    },
    {
     "data": {
      "image/png": "[encoded data removed]",
      "text/plain": [
       "<matplotlib.figure.Figure at 0x1fcad6a0>"
      ]
     },
     "metadata": {},
     "output_type": "display_data"
    }
   ],
   "source": [
    "#plotting original data+markers\n",
    "poll_df.plot(x='Start Date',y='Difference',marker='D',xlim=(329,356),\n",
    "             linestyle='-',figsize=(10,4))\n",
    "\n",
    "#first debate oct3rd, looking at polls on oct4th, row id=331\n",
    "plt.axvline(x=331,linewidth=4,color='red')\n",
    "#second debate oct16th, looking at polls on oct17th, row id=343\n",
    "plt.axvline(x=343,linewidth=4,color='red')\n",
    "#third debate oct22nd, looking at polls on oct23rd, row id=347\n",
    "plt.axvline(x=347,linewidth=4,color='red')\n",
    "\n",
    "#CONCLUSION: first debate obama favorable, second debate romney favorable\n",
    "#third debate is neutral"
   ]
  },
  {
   "cell_type": "markdown",
   "metadata": {},
   "source": [
    "# DONOR DATA SET\n",
    "\n",
    "Analyzing the donations to the federal campaign.\n",
    "\n",
    "Location: https://www.dropbox.com/s/l29oppon2veaq4n/Election_Donor_Data.csv?dl=0\n",
    "\n",
    "(150MB)\n",
    "\n",
    "Questions:\n",
    "\n",
    "1) How much donated, average donation?\n",
    "\n",
    "2) Difference in donation between candidates\n",
    "\n",
    "3) Donations differ from democrats to republicans\n",
    "\n",
    "4) Donor Demography\n",
    "\n",
    "5) Patterns in donation amounts?\n",
    "\n"
   ]
  },
  {
   "cell_type": "code",
   "execution_count": 23,
   "metadata": {
    "collapsed": false
   },
   "outputs": [
    {
     "name": "stdout",
     "output_type": "stream",
     "text": [
      "<class 'pandas.core.frame.DataFrame'>\n",
      "Int64Index: 1001731 entries, 0 to 1001730\n",
      "Data columns (total 16 columns):\n",
      "cmte_id              1001731 non-null object\n",
      "cand_id              1001731 non-null object\n",
      "cand_nm              1001731 non-null object\n",
      "contbr_nm            1001731 non-null object\n",
      "contbr_city          1001712 non-null object\n",
      "contbr_st            1001727 non-null object\n",
      "contbr_zip           1001620 non-null object\n",
      "contbr_employer      988002 non-null object\n",
      "contbr_occupation    993301 non-null object\n",
      "contb_receipt_amt    1001731 non-null float64\n",
      "contb_receipt_dt     1001731 non-null object\n",
      "receipt_desc         14166 non-null object\n",
      "memo_cd              92482 non-null object\n",
      "memo_text            97770 non-null object\n",
      "form_tp              1001731 non-null object\n",
      "file_num             1001731 non-null int64\n",
      "dtypes: float64(1), int64(1), object(14)\n",
      "memory usage: 129.9+ MB\n"
     ]
    },
    {
     "data": {
      "text/html": [
       "<div>\n",
       "<table border=\"1\" class=\"dataframe\">\n",
       "  <thead>\n",
       "    <tr style=\"text-align: right;\">\n",
       "      <th></th>\n",
       "      <th>cmte_id</th>\n",
       "      <th>cand_id</th>\n",
       "      <th>cand_nm</th>\n",
       "      <th>contbr_nm</th>\n",
       "      <th>contbr_city</th>\n",
       "      <th>contbr_st</th>\n",
       "      <th>contbr_zip</th>\n",
       "      <th>contbr_employer</th>\n",
       "      <th>contbr_occupation</th>\n",
       "      <th>contb_receipt_amt</th>\n",
       "      <th>contb_receipt_dt</th>\n",
       "      <th>receipt_desc</th>\n",
       "      <th>memo_cd</th>\n",
       "      <th>memo_text</th>\n",
       "      <th>form_tp</th>\n",
       "      <th>file_num</th>\n",
       "    </tr>\n",
       "  </thead>\n",
       "  <tbody>\n",
       "    <tr>\n",
       "      <th>0</th>\n",
       "      <td>C00410118</td>\n",
       "      <td>P20002978</td>\n",
       "      <td>Bachmann, Michelle</td>\n",
       "      <td>HARVEY, WILLIAM</td>\n",
       "      <td>MOBILE</td>\n",
       "      <td>AL</td>\n",
       "      <td>3.6601e+08</td>\n",
       "      <td>RETIRED</td>\n",
       "      <td>RETIRED</td>\n",
       "      <td>250</td>\n",
       "      <td>20-JUN-11</td>\n",
       "      <td>NaN</td>\n",
       "      <td>NaN</td>\n",
       "      <td>NaN</td>\n",
       "      <td>SA17A</td>\n",
       "      <td>736166</td>\n",
       "    </tr>\n",
       "    <tr>\n",
       "      <th>1</th>\n",
       "      <td>C00410118</td>\n",
       "      <td>P20002978</td>\n",
       "      <td>Bachmann, Michelle</td>\n",
       "      <td>HARVEY, WILLIAM</td>\n",
       "      <td>MOBILE</td>\n",
       "      <td>AL</td>\n",
       "      <td>3.6601e+08</td>\n",
       "      <td>RETIRED</td>\n",
       "      <td>RETIRED</td>\n",
       "      <td>50</td>\n",
       "      <td>23-JUN-11</td>\n",
       "      <td>NaN</td>\n",
       "      <td>NaN</td>\n",
       "      <td>NaN</td>\n",
       "      <td>SA17A</td>\n",
       "      <td>736166</td>\n",
       "    </tr>\n",
       "    <tr>\n",
       "      <th>2</th>\n",
       "      <td>C00410118</td>\n",
       "      <td>P20002978</td>\n",
       "      <td>Bachmann, Michelle</td>\n",
       "      <td>SMITH, LANIER</td>\n",
       "      <td>LANETT</td>\n",
       "      <td>AL</td>\n",
       "      <td>3.68633e+08</td>\n",
       "      <td>INFORMATION REQUESTED</td>\n",
       "      <td>INFORMATION REQUESTED</td>\n",
       "      <td>250</td>\n",
       "      <td>05-JUL-11</td>\n",
       "      <td>NaN</td>\n",
       "      <td>NaN</td>\n",
       "      <td>NaN</td>\n",
       "      <td>SA17A</td>\n",
       "      <td>749073</td>\n",
       "    </tr>\n",
       "    <tr>\n",
       "      <th>3</th>\n",
       "      <td>C00410118</td>\n",
       "      <td>P20002978</td>\n",
       "      <td>Bachmann, Michelle</td>\n",
       "      <td>BLEVINS, DARONDA</td>\n",
       "      <td>PIGGOTT</td>\n",
       "      <td>AR</td>\n",
       "      <td>7.24548e+08</td>\n",
       "      <td>NONE</td>\n",
       "      <td>RETIRED</td>\n",
       "      <td>250</td>\n",
       "      <td>01-AUG-11</td>\n",
       "      <td>NaN</td>\n",
       "      <td>NaN</td>\n",
       "      <td>NaN</td>\n",
       "      <td>SA17A</td>\n",
       "      <td>749073</td>\n",
       "    </tr>\n",
       "    <tr>\n",
       "      <th>4</th>\n",
       "      <td>C00410118</td>\n",
       "      <td>P20002978</td>\n",
       "      <td>Bachmann, Michelle</td>\n",
       "      <td>WARDENBURG, HAROLD</td>\n",
       "      <td>HOT SPRINGS NATION</td>\n",
       "      <td>AR</td>\n",
       "      <td>7.19016e+08</td>\n",
       "      <td>NONE</td>\n",
       "      <td>RETIRED</td>\n",
       "      <td>300</td>\n",
       "      <td>20-JUN-11</td>\n",
       "      <td>NaN</td>\n",
       "      <td>NaN</td>\n",
       "      <td>NaN</td>\n",
       "      <td>SA17A</td>\n",
       "      <td>736166</td>\n",
       "    </tr>\n",
       "  </tbody>\n",
       "</table>\n",
       "</div>"
      ],
      "text/plain": [
       "     cmte_id    cand_id             cand_nm           contbr_nm  \\\n",
       "0  C00410118  P20002978  Bachmann, Michelle     HARVEY, WILLIAM   \n",
       "1  C00410118  P20002978  Bachmann, Michelle     HARVEY, WILLIAM   \n",
       "2  C00410118  P20002978  Bachmann, Michelle       SMITH, LANIER   \n",
       "3  C00410118  P20002978  Bachmann, Michelle    BLEVINS, DARONDA   \n",
       "4  C00410118  P20002978  Bachmann, Michelle  WARDENBURG, HAROLD   \n",
       "\n",
       "          contbr_city contbr_st   contbr_zip        contbr_employer  \\\n",
       "0              MOBILE        AL   3.6601e+08                RETIRED   \n",
       "1              MOBILE        AL   3.6601e+08                RETIRED   \n",
       "2              LANETT        AL  3.68633e+08  INFORMATION REQUESTED   \n",
       "3             PIGGOTT        AR  7.24548e+08                   NONE   \n",
       "4  HOT SPRINGS NATION        AR  7.19016e+08                   NONE   \n",
       "\n",
       "       contbr_occupation  contb_receipt_amt contb_receipt_dt receipt_desc  \\\n",
       "0                RETIRED                250        20-JUN-11          NaN   \n",
       "1                RETIRED                 50        23-JUN-11          NaN   \n",
       "2  INFORMATION REQUESTED                250        05-JUL-11          NaN   \n",
       "3                RETIRED                250        01-AUG-11          NaN   \n",
       "4                RETIRED                300        20-JUN-11          NaN   \n",
       "\n",
       "  memo_cd memo_text form_tp  file_num  \n",
       "0     NaN       NaN   SA17A    736166  \n",
       "1     NaN       NaN   SA17A    736166  \n",
       "2     NaN       NaN   SA17A    749073  \n",
       "3     NaN       NaN   SA17A    749073  \n",
       "4     NaN       NaN   SA17A    736166  "
      ]
     },
     "execution_count": 23,
     "metadata": {},
     "output_type": "execute_result"
    }
   ],
   "source": [
    "#Read csv file into a dataframe\n",
    "donor_df = pd.read_csv('Election_Donor_Data.csv')\n",
    "donor_df.info()\n",
    "donor_df.head()"
   ]
  },
  {
   "cell_type": "code",
   "execution_count": 24,
   "metadata": {
    "collapsed": false
   },
   "outputs": [
    {
     "data": {
      "text/plain": [
       " 100.00     178188\n",
       " 50.00      137584\n",
       " 25.00      110345\n",
       " 250.00      91182\n",
       " 500.00      57984\n",
       " 2500.00     49005\n",
       " 35.00       37237\n",
       " 1000.00     36494\n",
       " 10.00       33986\n",
       " 200.00      27813\n",
       " 20.00       17565\n",
       " 15.00       16163\n",
       " 150.00      14600\n",
       " 75.00       13647\n",
       " 201.20      11718\n",
       " 30.00       11381\n",
       " 300.00      11204\n",
       " 20.12        9897\n",
       " 5.00         9024\n",
       " 40.00        5007\n",
       " 2000.00      4128\n",
       " 55.00        3760\n",
       " 1500.00      3705\n",
       " 3.00         3383\n",
       " 60.00        3084\n",
       " 400.00       3066\n",
       "-2500.00      2727\n",
       " 110.00       2554\n",
       " 125.00       2520\n",
       " 19.00        2474\n",
       "             ...  \n",
       " 236.07          1\n",
       " 153.60          1\n",
       " 116.35          1\n",
       " 233.33          1\n",
       " 86.21           1\n",
       " 600.74          1\n",
       " 130.20          1\n",
       " 50.04           1\n",
       " 78.55           1\n",
       " 266.10          1\n",
       " 77.83           1\n",
       " 222.75          1\n",
       " 217.75          1\n",
       " 261.50          1\n",
       " 240.25          1\n",
       "-45.50           1\n",
       " 161.50          1\n",
       " 268.76          1\n",
       " 100.56          1\n",
       " 6.26            1\n",
       " 114.43          1\n",
       " 823.88          1\n",
       " 849.39          1\n",
       " 83.08           1\n",
       " 264.14          1\n",
       " 24.04           1\n",
       " 236.90          1\n",
       " 92.30           1\n",
       " 58.41           1\n",
       " 108.90          1\n",
       "Name: contb_receipt_amt, dtype: int64"
      ]
     },
     "execution_count": 24,
     "metadata": {},
     "output_type": "execute_result"
    }
   ],
   "source": [
    "donor_df['contb_receipt_amt'].value_counts()"
   ]
  },
  {
   "cell_type": "code",
   "execution_count": 25,
   "metadata": {
    "collapsed": false
   },
   "outputs": [
    {
     "name": "stdout",
     "output_type": "stream",
     "text": [
      "Average donation 298.24 with a SD of 3749.67\n"
     ]
    }
   ],
   "source": [
    "#average donation and variation\n",
    "don_mean = donor_df['contb_receipt_amt'].mean()\n",
    "don_std = donor_df['contb_receipt_amt'].std()\n",
    "print \"Average donation %.2f with a SD of %.2f\" %(don_mean,don_std)\n",
    "#huge SD"
   ]
  },
  {
   "cell_type": "code",
   "execution_count": 52,
   "metadata": {
    "collapsed": false
   },
   "outputs": [
    {
     "data": {
      "text/plain": [
       "0           250\n",
       "1            50\n",
       "2           250\n",
       "3           250\n",
       "4           300\n",
       "5           500\n",
       "6           250\n",
       "7           250\n",
       "8           250\n",
       "9           250\n",
       "10          250\n",
       "11          500\n",
       "12          250\n",
       "13          250\n",
       "14          250\n",
       "15          300\n",
       "16          500\n",
       "17         1000\n",
       "18          250\n",
       "19          300\n",
       "20          500\n",
       "21          250\n",
       "22         2500\n",
       "23         2500\n",
       "24          150\n",
       "25          200\n",
       "26          100\n",
       "27          250\n",
       "28          500\n",
       "29          250\n",
       "           ... \n",
       "1001701    2500\n",
       "1001702    2500\n",
       "1001703   -2500\n",
       "1001704   -2500\n",
       "1001705    1000\n",
       "1001706    2500\n",
       "1001707   -2500\n",
       "1001708    2500\n",
       "1001709   -2500\n",
       "1001710   -2500\n",
       "1001711    1000\n",
       "1001712    2500\n",
       "1001713    2500\n",
       "1001714     250\n",
       "1001715     250\n",
       "1001716    1000\n",
       "1001717     100\n",
       "1001718    2500\n",
       "1001719    2500\n",
       "1001720     100\n",
       "1001721     250\n",
       "1001722     100\n",
       "1001723     100\n",
       "1001724     500\n",
       "1001725    2500\n",
       "1001726    5000\n",
       "1001727    2500\n",
       "1001728     500\n",
       "1001729     500\n",
       "1001730    2500\n",
       "Name: contb_receipt_amt, dtype: float64"
      ]
     },
     "execution_count": 52,
     "metadata": {},
     "output_type": "execute_result"
    }
   ],
   "source": [
    "top_donor = donor_df['contb_receipt_amt'].copy()\n",
    "top_donor.sort_values()\n",
    "top_donor\n",
    "# negative values are refunds or are not part of donations."
   ]
  },
  {
   "cell_type": "code",
   "execution_count": 56,
   "metadata": {
    "collapsed": true
   },
   "outputs": [],
   "source": [
    "top_donor = top_donor[top_donor>0]\n",
    "#removing refunds/negative values"
   ]
  },
  {
   "cell_type": "code",
   "execution_count": 57,
   "metadata": {
    "collapsed": false
   },
   "outputs": [
    {
     "data": {
      "text/plain": [
       "100     178188\n",
       "50      137584\n",
       "25      110345\n",
       "250      91182\n",
       "500      57984\n",
       "2500     49005\n",
       "35       37237\n",
       "1000     36494\n",
       "10       33986\n",
       "200      27813\n",
       "Name: contb_receipt_amt, dtype: int64"
      ]
     },
     "execution_count": 57,
     "metadata": {},
     "output_type": "execute_result"
    }
   ],
   "source": [
    "top_donor.sort_values(inplace=True)\n",
    "top_donor.value_counts().head(10)\n",
    "#counting the top donations\n",
    "#conclusion: seems like top donations are between 10-2500\n",
    "#Also integer value donations are popular"
   ]
  },
  {
   "cell_type": "code",
   "execution_count": 62,
   "metadata": {
    "collapsed": false
   },
   "outputs": [
    {
     "data": {
      "text/plain": [
       "<matplotlib.axes._subplots.AxesSubplot at 0x31b814a8>"
      ]
     },
     "execution_count": 62,
     "metadata": {},
     "output_type": "execute_result"
    },
    {
     "data": {
      "image/png": "[encoded data removed]",
      "text/plain": [
       "<matplotlib.figure.Figure at 0x2b609518>"
      ]
     },
     "metadata": {},
     "output_type": "display_data"
    }
   ],
   "source": [
    "# seeing the most(more than 10000 in count) contributed amounts (<2500)\n",
    "com_don = top_donor[top_donor < 2500]\n",
    "com_don.hist(bins=200,figsize=(10,4))\n"
   ]
  },
  {
   "cell_type": "code",
   "execution_count": 63,
   "metadata": {
    "collapsed": false
   },
   "outputs": [
    {
     "data": {
      "text/plain": [
       "array(['Bachmann, Michelle', 'Romney, Mitt', 'Obama, Barack',\n",
       "       \"Roemer, Charles E. 'Buddy' III\", 'Pawlenty, Timothy',\n",
       "       'Johnson, Gary Earl', 'Paul, Ron', 'Santorum, Rick', 'Cain, Herman',\n",
       "       'Gingrich, Newt', 'McCotter, Thaddeus G', 'Huntsman, Jon',\n",
       "       'Perry, Rick'], dtype=object)"
      ]
     },
     "execution_count": 63,
     "metadata": {},
     "output_type": "execute_result"
    }
   ],
   "source": [
    "#Separating donations by Party.\n",
    "#Creating a new column called \"Party\" \n",
    "#Extracting candidates and affilations\n",
    "\n",
    "#Grabbing unique objects from the candidate column\n",
    "candidates = donor_df.cand_nm.unique()\n",
    "candidates"
   ]
  },
  {
   "cell_type": "code",
   "execution_count": 67,
   "metadata": {
    "collapsed": false
   },
   "outputs": [
    {
     "data": {
      "text/html": [
       "<div>\n",
       "<table border=\"1\" class=\"dataframe\">\n",
       "  <thead>\n",
       "    <tr style=\"text-align: right;\">\n",
       "      <th></th>\n",
       "      <th>cmte_id</th>\n",
       "      <th>cand_id</th>\n",
       "      <th>cand_nm</th>\n",
       "      <th>contbr_nm</th>\n",
       "      <th>contbr_city</th>\n",
       "      <th>contbr_st</th>\n",
       "      <th>contbr_zip</th>\n",
       "      <th>contbr_employer</th>\n",
       "      <th>contbr_occupation</th>\n",
       "      <th>contb_receipt_amt</th>\n",
       "      <th>contb_receipt_dt</th>\n",
       "      <th>receipt_desc</th>\n",
       "      <th>memo_cd</th>\n",
       "      <th>memo_text</th>\n",
       "      <th>form_tp</th>\n",
       "      <th>file_num</th>\n",
       "      <th>Party</th>\n",
       "    </tr>\n",
       "  </thead>\n",
       "  <tbody>\n",
       "    <tr>\n",
       "      <th>0</th>\n",
       "      <td>C00410118</td>\n",
       "      <td>P20002978</td>\n",
       "      <td>Bachmann, Michelle</td>\n",
       "      <td>HARVEY, WILLIAM</td>\n",
       "      <td>MOBILE</td>\n",
       "      <td>AL</td>\n",
       "      <td>3.6601e+08</td>\n",
       "      <td>RETIRED</td>\n",
       "      <td>RETIRED</td>\n",
       "      <td>250</td>\n",
       "      <td>20-JUN-11</td>\n",
       "      <td>NaN</td>\n",
       "      <td>NaN</td>\n",
       "      <td>NaN</td>\n",
       "      <td>SA17A</td>\n",
       "      <td>736166</td>\n",
       "      <td>Republican</td>\n",
       "    </tr>\n",
       "    <tr>\n",
       "      <th>1</th>\n",
       "      <td>C00410118</td>\n",
       "      <td>P20002978</td>\n",
       "      <td>Bachmann, Michelle</td>\n",
       "      <td>HARVEY, WILLIAM</td>\n",
       "      <td>MOBILE</td>\n",
       "      <td>AL</td>\n",
       "      <td>3.6601e+08</td>\n",
       "      <td>RETIRED</td>\n",
       "      <td>RETIRED</td>\n",
       "      <td>50</td>\n",
       "      <td>23-JUN-11</td>\n",
       "      <td>NaN</td>\n",
       "      <td>NaN</td>\n",
       "      <td>NaN</td>\n",
       "      <td>SA17A</td>\n",
       "      <td>736166</td>\n",
       "      <td>Republican</td>\n",
       "    </tr>\n",
       "    <tr>\n",
       "      <th>2</th>\n",
       "      <td>C00410118</td>\n",
       "      <td>P20002978</td>\n",
       "      <td>Bachmann, Michelle</td>\n",
       "      <td>SMITH, LANIER</td>\n",
       "      <td>LANETT</td>\n",
       "      <td>AL</td>\n",
       "      <td>3.68633e+08</td>\n",
       "      <td>INFORMATION REQUESTED</td>\n",
       "      <td>INFORMATION REQUESTED</td>\n",
       "      <td>250</td>\n",
       "      <td>05-JUL-11</td>\n",
       "      <td>NaN</td>\n",
       "      <td>NaN</td>\n",
       "      <td>NaN</td>\n",
       "      <td>SA17A</td>\n",
       "      <td>749073</td>\n",
       "      <td>Republican</td>\n",
       "    </tr>\n",
       "    <tr>\n",
       "      <th>3</th>\n",
       "      <td>C00410118</td>\n",
       "      <td>P20002978</td>\n",
       "      <td>Bachmann, Michelle</td>\n",
       "      <td>BLEVINS, DARONDA</td>\n",
       "      <td>PIGGOTT</td>\n",
       "      <td>AR</td>\n",
       "      <td>7.24548e+08</td>\n",
       "      <td>NONE</td>\n",
       "      <td>RETIRED</td>\n",
       "      <td>250</td>\n",
       "      <td>01-AUG-11</td>\n",
       "      <td>NaN</td>\n",
       "      <td>NaN</td>\n",
       "      <td>NaN</td>\n",
       "      <td>SA17A</td>\n",
       "      <td>749073</td>\n",
       "      <td>Republican</td>\n",
       "    </tr>\n",
       "    <tr>\n",
       "      <th>4</th>\n",
       "      <td>C00410118</td>\n",
       "      <td>P20002978</td>\n",
       "      <td>Bachmann, Michelle</td>\n",
       "      <td>WARDENBURG, HAROLD</td>\n",
       "      <td>HOT SPRINGS NATION</td>\n",
       "      <td>AR</td>\n",
       "      <td>7.19016e+08</td>\n",
       "      <td>NONE</td>\n",
       "      <td>RETIRED</td>\n",
       "      <td>300</td>\n",
       "      <td>20-JUN-11</td>\n",
       "      <td>NaN</td>\n",
       "      <td>NaN</td>\n",
       "      <td>NaN</td>\n",
       "      <td>SA17A</td>\n",
       "      <td>736166</td>\n",
       "      <td>Republican</td>\n",
       "    </tr>\n",
       "  </tbody>\n",
       "</table>\n",
       "</div>"
      ],
      "text/plain": [
       "     cmte_id    cand_id             cand_nm           contbr_nm  \\\n",
       "0  C00410118  P20002978  Bachmann, Michelle     HARVEY, WILLIAM   \n",
       "1  C00410118  P20002978  Bachmann, Michelle     HARVEY, WILLIAM   \n",
       "2  C00410118  P20002978  Bachmann, Michelle       SMITH, LANIER   \n",
       "3  C00410118  P20002978  Bachmann, Michelle    BLEVINS, DARONDA   \n",
       "4  C00410118  P20002978  Bachmann, Michelle  WARDENBURG, HAROLD   \n",
       "\n",
       "          contbr_city contbr_st   contbr_zip        contbr_employer  \\\n",
       "0              MOBILE        AL   3.6601e+08                RETIRED   \n",
       "1              MOBILE        AL   3.6601e+08                RETIRED   \n",
       "2              LANETT        AL  3.68633e+08  INFORMATION REQUESTED   \n",
       "3             PIGGOTT        AR  7.24548e+08                   NONE   \n",
       "4  HOT SPRINGS NATION        AR  7.19016e+08                   NONE   \n",
       "\n",
       "       contbr_occupation  contb_receipt_amt contb_receipt_dt receipt_desc  \\\n",
       "0                RETIRED                250        20-JUN-11          NaN   \n",
       "1                RETIRED                 50        23-JUN-11          NaN   \n",
       "2  INFORMATION REQUESTED                250        05-JUL-11          NaN   \n",
       "3                RETIRED                250        01-AUG-11          NaN   \n",
       "4                RETIRED                300        20-JUN-11          NaN   \n",
       "\n",
       "  memo_cd memo_text form_tp  file_num       Party  \n",
       "0     NaN       NaN   SA17A    736166  Republican  \n",
       "1     NaN       NaN   SA17A    736166  Republican  \n",
       "2     NaN       NaN   SA17A    749073  Republican  \n",
       "3     NaN       NaN   SA17A    749073  Republican  \n",
       "4     NaN       NaN   SA17A    736166  Republican  "
      ]
     },
     "execution_count": 67,
     "metadata": {},
     "output_type": "execute_result"
    }
   ],
   "source": [
    "# Adding Dictionary of party affiliation, apart from obama, rest are Reps\n",
    "party_map = {'Bachmann, Michelle': 'Republican',\n",
    "           'Cain, Herman': 'Republican',\n",
    "           'Gingrich, Newt': 'Republican',\n",
    "           'Huntsman, Jon': 'Republican',\n",
    "           'Johnson, Gary Earl': 'Republican',\n",
    "           'McCotter, Thaddeus G': 'Republican',\n",
    "           'Obama, Barack': 'Democrat',\n",
    "           'Paul, Ron': 'Republican',\n",
    "           'Pawlenty, Timothy': 'Republican',\n",
    "           'Perry, Rick': 'Republican',\n",
    "           \"Roemer, Charles E. 'Buddy' III\": 'Republican',\n",
    "           'Romney, Mitt': 'Republican',\n",
    "           'Santorum, Rick': 'Republican'}\n",
    "donor_df['Party'] = donor_df.cand_nm.map(party_map)\n",
    "donor_df.head()"
   ]
  },
  {
   "cell_type": "code",
   "execution_count": 66,
   "metadata": {
    "collapsed": false
   },
   "outputs": [
    {
     "name": "stdout",
     "output_type": "stream",
     "text": [
      "<class 'pandas.core.frame.DataFrame'>\n",
      "Int64Index: 991475 entries, 0 to 1001730\n",
      "Data columns (total 17 columns):\n",
      "cmte_id              991475 non-null object\n",
      "cand_id              991475 non-null object\n",
      "cand_nm              991475 non-null object\n",
      "contbr_nm            991475 non-null object\n",
      "contbr_city          991457 non-null object\n",
      "contbr_st            991471 non-null object\n",
      "contbr_zip           991373 non-null object\n",
      "contbr_employer      983833 non-null object\n",
      "contbr_occupation    989133 non-null object\n",
      "contb_receipt_amt    991475 non-null float64\n",
      "contb_receipt_dt     991475 non-null object\n",
      "receipt_desc         5219 non-null object\n",
      "memo_cd              89461 non-null object\n",
      "memo_text            94274 non-null object\n",
      "form_tp              991475 non-null object\n",
      "file_num             991475 non-null int64\n",
      "Party                991475 non-null object\n",
      "dtypes: float64(1), int64(1), object(15)\n",
      "memory usage: 136.2+ MB\n"
     ]
    }
   ],
   "source": [
    "#removing refunds\n",
    "donor_df = donor_df[donor_df.contb_receipt_amt>0]\n",
    "donor_df.info()\n",
    "#total rows reduced\n"
   ]
  },
  {
   "cell_type": "code",
   "execution_count": 97,
   "metadata": {
    "collapsed": false
   },
   "outputs": [
    {
     "data": {
      "text/plain": [
       "cand_nm\n",
       "Bachmann, Michelle                 13082\n",
       "Cain, Herman                       20052\n",
       "Gingrich, Newt                     46883\n",
       "Huntsman, Jon                       4066\n",
       "Johnson, Gary Earl                  1234\n",
       "McCotter, Thaddeus G                  73\n",
       "Obama, Barack                     589127\n",
       "Paul, Ron                         143161\n",
       "Pawlenty, Timothy                   3844\n",
       "Perry, Rick                        12709\n",
       "Roemer, Charles E. 'Buddy' III      5844\n",
       "Romney, Mitt                      105155\n",
       "Santorum, Rick                     46245\n",
       "Name: contb_receipt_amt, dtype: int64"
      ]
     },
     "execution_count": 97,
     "metadata": {},
     "output_type": "execute_result"
    }
   ],
   "source": [
    "#grouping by candidate names and counting the number of donations\n",
    "donor_df.groupby('cand_nm')['contb_receipt_amt'].count()\n",
    "#obama being onlt dem candidate, has max donations"
   ]
  },
  {
   "cell_type": "code",
   "execution_count": 110,
   "metadata": {
    "collapsed": false
   },
   "outputs": [
    {
     "data": {
      "text/plain": [
       "'\\n#indexing from 0 in groupby object\\ni=0\\nfor cand in cand_sum:\\n    print \"The candidate %s raised $%0.f\\n \" %(cand_sum.index[i],cand)\\n    i += 1\\n'"
      ]
     },
     "execution_count": 110,
     "metadata": {},
     "output_type": "execute_result"
    }
   ],
   "source": [
    "#total amount received\n",
    "cand_sum=donor_df.groupby('cand_nm')['contb_receipt_amt'].sum()\n",
    "\n",
    "'''\n",
    "#indexing from 0 in groupby object\n",
    "i=0\n",
    "for cand in cand_sum:\n",
    "    print \"The candidate %s raised $%0.f\\n \" %(cand_sum.index[i],cand)\n",
    "    i += 1\n",
    "'''"
   ]
  },
  {
   "cell_type": "code",
   "execution_count": 145,
   "metadata": {
    "collapsed": false
   },
   "outputs": [
    {
     "data": {
      "text/plain": [
       "<matplotlib.axes._subplots.AxesSubplot at 0x3e1524a8>"
      ]
     },
     "execution_count": 145,
     "metadata": {},
     "output_type": "execute_result"
    },
    {
     "data": {
      "image/png": "[encoded data removed]",
      "text/plain": [
       "<matplotlib.figure.Figure at 0x4c29a5c0>"
      ]
     },
     "metadata": {},
     "output_type": "display_data"
    }
   ],
   "source": [
    "#Plotting total donations\n",
    "cand_sum.plot(kind='bar')\n",
    "#obama has more donations as he enjoys being a single rep for DEMS"
   ]
  },
  {
   "cell_type": "code",
   "execution_count": 146,
   "metadata": {
    "collapsed": false
   },
   "outputs": [
    {
     "data": {
      "text/plain": [
       "<matplotlib.axes._subplots.AxesSubplot at 0x3f7a7748>"
      ]
     },
     "execution_count": 146,
     "metadata": {},
     "output_type": "execute_result"
    },
    {
     "data": {
      "image/png": "[encoded data removed]",
      "text/plain": [
       "<matplotlib.figure.Figure at 0x4c28a438>"
      ]
     },
     "metadata": {},
     "output_type": "display_data"
    }
   ],
   "source": [
    "#grouping party wise and summing donations\n",
    "donor_df.groupby('Party')['contb_receipt_amt'].sum().plot(kind='bar')\n",
    "#Conclusion OBAMA couldn't beat the total donations by REPS"
   ]
  },
  {
   "cell_type": "code",
   "execution_count": 147,
   "metadata": {
    "collapsed": false
   },
   "outputs": [
    {
     "data": {
      "text/html": [
       "<div>\n",
       "<table border=\"1\" class=\"dataframe\">\n",
       "  <thead>\n",
       "    <tr style=\"text-align: right;\">\n",
       "      <th>Party</th>\n",
       "      <th>Democrat</th>\n",
       "      <th>Republican</th>\n",
       "    </tr>\n",
       "    <tr>\n",
       "      <th>contbr_occupation</th>\n",
       "      <th></th>\n",
       "      <th></th>\n",
       "    </tr>\n",
       "  </thead>\n",
       "  <tbody>\n",
       "    <tr>\n",
       "      <th>MIXED-MEDIA ARTIST / STORYTELLER</th>\n",
       "      <td>100</td>\n",
       "      <td>NaN</td>\n",
       "    </tr>\n",
       "    <tr>\n",
       "      <th>AREA VICE PRESIDENT</th>\n",
       "      <td>250</td>\n",
       "      <td>NaN</td>\n",
       "    </tr>\n",
       "    <tr>\n",
       "      <th>RESEARCH ASSOCIATE</th>\n",
       "      <td>100</td>\n",
       "      <td>NaN</td>\n",
       "    </tr>\n",
       "    <tr>\n",
       "      <th>TEACHER</th>\n",
       "      <td>500</td>\n",
       "      <td>NaN</td>\n",
       "    </tr>\n",
       "    <tr>\n",
       "      <th>THERAPIST</th>\n",
       "      <td>3900</td>\n",
       "      <td>NaN</td>\n",
       "    </tr>\n",
       "  </tbody>\n",
       "</table>\n",
       "</div>"
      ],
      "text/plain": [
       "Party                                Democrat  Republican\n",
       "contbr_occupation                                        \n",
       "   MIXED-MEDIA ARTIST / STORYTELLER       100         NaN\n",
       " AREA VICE PRESIDENT                      250         NaN\n",
       " RESEARCH ASSOCIATE                       100         NaN\n",
       " TEACHER                                  500         NaN\n",
       " THERAPIST                               3900         NaN"
      ]
     },
     "execution_count": 147,
     "metadata": {},
     "output_type": "execute_result"
    }
   ],
   "source": [
    "#What is the occupation of donors?\n",
    "#Defining a occupation DF that extracts contributor occupation\n",
    "#and use pivot table to make the index=ocupations, columns=DEMS,REPS\n",
    "#aggregate the sum of all contributions by each occupation\n",
    "\n",
    "occupation_df = donor_df.pivot_table('contb_receipt_amt',\n",
    "                                     index='contbr_occupation',\n",
    "                                    columns='Party',\n",
    "                                    aggfunc='sum')\n",
    "occupation_df.head()\n"
   ]
  },
  {
   "cell_type": "code",
   "execution_count": 148,
   "metadata": {
    "collapsed": false
   },
   "outputs": [
    {
     "data": {
      "text/plain": [
       "(45067, 2)"
      ]
     },
     "execution_count": 148,
     "metadata": {},
     "output_type": "execute_result"
    }
   ],
   "source": [
    "occupation_df.shape\n",
    "#lot of varied occupations"
   ]
  },
  {
   "cell_type": "code",
   "execution_count": 149,
   "metadata": {
    "collapsed": false
   },
   "outputs": [
    {
     "data": {
      "text/plain": [
       "(31, 2)"
      ]
     },
     "execution_count": 149,
     "metadata": {},
     "output_type": "execute_result"
    }
   ],
   "source": [
    "#reducing the occupations by setting a limit for total contribution\n",
    "#from an occupation as 1 million dollars\n",
    "#adding column wise axis=1\n",
    "occupation_df = occupation_df[occupation_df.sum(axis=1)>1000000]\n",
    "occupation_df.shape\n",
    "#reduced to 31 occupation"
   ]
  },
  {
   "cell_type": "code",
   "execution_count": 150,
   "metadata": {
    "collapsed": false
   },
   "outputs": [
    {
     "data": {
      "text/plain": [
       "<matplotlib.axes._subplots.AxesSubplot at 0x30b28278>"
      ]
     },
     "execution_count": 150,
     "metadata": {},
     "output_type": "execute_result"
    },
    {
     "data": {
      "image/png": "[encoded data removed]",
      "text/plain": [
       "<matplotlib.figure.Figure at 0x2def22b0>"
      ]
     },
     "metadata": {},
     "output_type": "display_data"
    }
   ],
   "source": [
    "#plotting the million dollar donation occupations\n",
    "occupation_df.plot(kind='barh',figsize=(10,10))"
   ]
  },
  {
   "cell_type": "code",
   "execution_count": 151,
   "metadata": {
    "collapsed": false
   },
   "outputs": [],
   "source": [
    "#dropping missing info occupations, combining CEO and C.E.O\n",
    "occupation_df.drop(['INFORMATION REQUESTED PER BEST EFFORTS','INFORMATION REQUESTED'],axis=0,inplace=True)\n",
    "occupation_df.loc['CEO'] = occupation_df.loc['CEO'] + occupation_df.loc['C.E.O.']\n",
    "# Drop CEO\n",
    "occupation_df.drop('C.E.O.',inplace=True)"
   ]
  },
  {
   "cell_type": "code",
   "execution_count": 152,
   "metadata": {
    "collapsed": false
   },
   "outputs": [
    {
     "data": {
      "text/plain": [
       "<matplotlib.axes._subplots.AxesSubplot at 0x4b33ca58>"
      ]
     },
     "execution_count": 152,
     "metadata": {},
     "output_type": "execute_result"
    },
    {
     "data": {
      "image/png": "[encoded data removed]",
      "text/plain": [
       "<matplotlib.figure.Figure at 0x3ecd1fd0>"
      ]
     },
     "metadata": {},
     "output_type": "display_data"
    }
   ],
   "source": [
    "occupation_df.plot(kind='barh',figsize=(10,10))"
   ]
  },
  {
   "cell_type": "code",
   "execution_count": null,
   "metadata": {
    "collapsed": true
   },
   "outputs": [],
   "source": [
    "#CONCLUSION:\n",
    "#Retirees are major contributors, DEM supporters\n",
    "#CEOs are REP oriented, tax cuts by DEM ar emore aggressive for big companies\n",
    "#Homemakers are more REP oriented\n",
    "#Intellectual fields such as teachers, writers, professors, lawyers/attorneys are \n",
    "#DEM oriented"
   ]
  }
 ],
 "metadata": {
  "kernelspec": {
   "display_name": "Python 2",
   "language": "python",
   "name": "python2"
  },
  "language_info": {
   "codemirror_mode": {
    "name": "ipython",
    "version": 2
   },
   "file_extension": ".py",
   "mimetype": "text/x-python",
   "name": "python",
   "nbconvert_exporter": "python",
   "pygments_lexer": "ipython2",
   "version": "2.7.10"
  }
 },
 "nbformat": 4,
 "nbformat_minor": 0
}
